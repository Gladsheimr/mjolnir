{
 "cells": [
  {
   "cell_type": "code",
   "execution_count": 1,
   "metadata": {},
   "outputs": [],
   "source": [
    "import serial\n",
    "  "
   ]
  },
  {
   "cell_type": "code",
   "execution_count": 3,
   "metadata": {},
   "outputs": [
    {
     "name": "stdout",
     "output_type": "stream",
     "text": [
      "\u001b[34m\u001b[43m/dev/tty\u001b[m\u001b[m                         \u001b[34m\u001b[43m/dev/ttysc\u001b[m\u001b[m\r\n",
      "\u001b[34m\u001b[43m/dev/tty.Bluetooth-Incoming-Port\u001b[m\u001b[m \u001b[34m\u001b[43m/dev/ttysd\u001b[m\u001b[m\r\n",
      "\u001b[34m\u001b[43m/dev/tty.usbmodem14101\u001b[m\u001b[m           \u001b[34m\u001b[43m/dev/ttyse\u001b[m\u001b[m\r\n",
      "\u001b[34m\u001b[43m/dev/ttyp0\u001b[m\u001b[m                       \u001b[34m\u001b[43m/dev/ttysf\u001b[m\u001b[m\r\n",
      "\u001b[34m\u001b[43m/dev/ttyp1\u001b[m\u001b[m                       \u001b[34m\u001b[43m/dev/ttyt0\u001b[m\u001b[m\r\n",
      "\u001b[34m\u001b[43m/dev/ttyp2\u001b[m\u001b[m                       \u001b[34m\u001b[43m/dev/ttyt1\u001b[m\u001b[m\r\n",
      "\u001b[34m\u001b[43m/dev/ttyp3\u001b[m\u001b[m                       \u001b[34m\u001b[43m/dev/ttyt2\u001b[m\u001b[m\r\n",
      "\u001b[34m\u001b[43m/dev/ttyp4\u001b[m\u001b[m                       \u001b[34m\u001b[43m/dev/ttyt3\u001b[m\u001b[m\r\n",
      "\u001b[34m\u001b[43m/dev/ttyp5\u001b[m\u001b[m                       \u001b[34m\u001b[43m/dev/ttyt4\u001b[m\u001b[m\r\n",
      "\u001b[34m\u001b[43m/dev/ttyp6\u001b[m\u001b[m                       \u001b[34m\u001b[43m/dev/ttyt5\u001b[m\u001b[m\r\n",
      "\u001b[34m\u001b[43m/dev/ttyp7\u001b[m\u001b[m                       \u001b[34m\u001b[43m/dev/ttyt6\u001b[m\u001b[m\r\n",
      "\u001b[34m\u001b[43m/dev/ttyp8\u001b[m\u001b[m                       \u001b[34m\u001b[43m/dev/ttyt7\u001b[m\u001b[m\r\n",
      "\u001b[34m\u001b[43m/dev/ttyp9\u001b[m\u001b[m                       \u001b[34m\u001b[43m/dev/ttyt8\u001b[m\u001b[m\r\n",
      "\u001b[34m\u001b[43m/dev/ttypa\u001b[m\u001b[m                       \u001b[34m\u001b[43m/dev/ttyt9\u001b[m\u001b[m\r\n",
      "\u001b[34m\u001b[43m/dev/ttypb\u001b[m\u001b[m                       \u001b[34m\u001b[43m/dev/ttyta\u001b[m\u001b[m\r\n",
      "\u001b[34m\u001b[43m/dev/ttypc\u001b[m\u001b[m                       \u001b[34m\u001b[43m/dev/ttytb\u001b[m\u001b[m\r\n",
      "\u001b[34m\u001b[43m/dev/ttypd\u001b[m\u001b[m                       \u001b[34m\u001b[43m/dev/ttytc\u001b[m\u001b[m\r\n",
      "\u001b[34m\u001b[43m/dev/ttype\u001b[m\u001b[m                       \u001b[34m\u001b[43m/dev/ttytd\u001b[m\u001b[m\r\n",
      "\u001b[34m\u001b[43m/dev/ttypf\u001b[m\u001b[m                       \u001b[34m\u001b[43m/dev/ttyte\u001b[m\u001b[m\r\n",
      "\u001b[34m\u001b[43m/dev/ttyq0\u001b[m\u001b[m                       \u001b[34m\u001b[43m/dev/ttytf\u001b[m\u001b[m\r\n",
      "\u001b[34m\u001b[43m/dev/ttyq1\u001b[m\u001b[m                       \u001b[34m\u001b[43m/dev/ttyu0\u001b[m\u001b[m\r\n",
      "\u001b[34m\u001b[43m/dev/ttyq2\u001b[m\u001b[m                       \u001b[34m\u001b[43m/dev/ttyu1\u001b[m\u001b[m\r\n",
      "\u001b[34m\u001b[43m/dev/ttyq3\u001b[m\u001b[m                       \u001b[34m\u001b[43m/dev/ttyu2\u001b[m\u001b[m\r\n",
      "\u001b[34m\u001b[43m/dev/ttyq4\u001b[m\u001b[m                       \u001b[34m\u001b[43m/dev/ttyu3\u001b[m\u001b[m\r\n",
      "\u001b[34m\u001b[43m/dev/ttyq5\u001b[m\u001b[m                       \u001b[34m\u001b[43m/dev/ttyu4\u001b[m\u001b[m\r\n",
      "\u001b[34m\u001b[43m/dev/ttyq6\u001b[m\u001b[m                       \u001b[34m\u001b[43m/dev/ttyu5\u001b[m\u001b[m\r\n",
      "\u001b[34m\u001b[43m/dev/ttyq7\u001b[m\u001b[m                       \u001b[34m\u001b[43m/dev/ttyu6\u001b[m\u001b[m\r\n",
      "\u001b[34m\u001b[43m/dev/ttyq8\u001b[m\u001b[m                       \u001b[34m\u001b[43m/dev/ttyu7\u001b[m\u001b[m\r\n",
      "\u001b[34m\u001b[43m/dev/ttyq9\u001b[m\u001b[m                       \u001b[34m\u001b[43m/dev/ttyu8\u001b[m\u001b[m\r\n",
      "\u001b[34m\u001b[43m/dev/ttyqa\u001b[m\u001b[m                       \u001b[34m\u001b[43m/dev/ttyu9\u001b[m\u001b[m\r\n",
      "\u001b[34m\u001b[43m/dev/ttyqb\u001b[m\u001b[m                       \u001b[34m\u001b[43m/dev/ttyua\u001b[m\u001b[m\r\n",
      "\u001b[34m\u001b[43m/dev/ttyqc\u001b[m\u001b[m                       \u001b[34m\u001b[43m/dev/ttyub\u001b[m\u001b[m\r\n",
      "\u001b[34m\u001b[43m/dev/ttyqd\u001b[m\u001b[m                       \u001b[34m\u001b[43m/dev/ttyuc\u001b[m\u001b[m\r\n",
      "\u001b[34m\u001b[43m/dev/ttyqe\u001b[m\u001b[m                       \u001b[34m\u001b[43m/dev/ttyud\u001b[m\u001b[m\r\n",
      "\u001b[34m\u001b[43m/dev/ttyqf\u001b[m\u001b[m                       \u001b[34m\u001b[43m/dev/ttyue\u001b[m\u001b[m\r\n",
      "\u001b[34m\u001b[43m/dev/ttyr0\u001b[m\u001b[m                       \u001b[34m\u001b[43m/dev/ttyuf\u001b[m\u001b[m\r\n",
      "\u001b[34m\u001b[43m/dev/ttyr1\u001b[m\u001b[m                       \u001b[34m\u001b[43m/dev/ttyv0\u001b[m\u001b[m\r\n",
      "\u001b[34m\u001b[43m/dev/ttyr2\u001b[m\u001b[m                       \u001b[34m\u001b[43m/dev/ttyv1\u001b[m\u001b[m\r\n",
      "\u001b[34m\u001b[43m/dev/ttyr3\u001b[m\u001b[m                       \u001b[34m\u001b[43m/dev/ttyv2\u001b[m\u001b[m\r\n",
      "\u001b[34m\u001b[43m/dev/ttyr4\u001b[m\u001b[m                       \u001b[34m\u001b[43m/dev/ttyv3\u001b[m\u001b[m\r\n",
      "\u001b[34m\u001b[43m/dev/ttyr5\u001b[m\u001b[m                       \u001b[34m\u001b[43m/dev/ttyv4\u001b[m\u001b[m\r\n",
      "\u001b[34m\u001b[43m/dev/ttyr6\u001b[m\u001b[m                       \u001b[34m\u001b[43m/dev/ttyv5\u001b[m\u001b[m\r\n",
      "\u001b[34m\u001b[43m/dev/ttyr7\u001b[m\u001b[m                       \u001b[34m\u001b[43m/dev/ttyv6\u001b[m\u001b[m\r\n",
      "\u001b[34m\u001b[43m/dev/ttyr8\u001b[m\u001b[m                       \u001b[34m\u001b[43m/dev/ttyv7\u001b[m\u001b[m\r\n",
      "\u001b[34m\u001b[43m/dev/ttyr9\u001b[m\u001b[m                       \u001b[34m\u001b[43m/dev/ttyv8\u001b[m\u001b[m\r\n",
      "\u001b[34m\u001b[43m/dev/ttyra\u001b[m\u001b[m                       \u001b[34m\u001b[43m/dev/ttyv9\u001b[m\u001b[m\r\n",
      "\u001b[34m\u001b[43m/dev/ttyrb\u001b[m\u001b[m                       \u001b[34m\u001b[43m/dev/ttyva\u001b[m\u001b[m\r\n",
      "\u001b[34m\u001b[43m/dev/ttyrc\u001b[m\u001b[m                       \u001b[34m\u001b[43m/dev/ttyvb\u001b[m\u001b[m\r\n",
      "\u001b[34m\u001b[43m/dev/ttyrd\u001b[m\u001b[m                       \u001b[34m\u001b[43m/dev/ttyvc\u001b[m\u001b[m\r\n",
      "\u001b[34m\u001b[43m/dev/ttyre\u001b[m\u001b[m                       \u001b[34m\u001b[43m/dev/ttyvd\u001b[m\u001b[m\r\n",
      "\u001b[34m\u001b[43m/dev/ttyrf\u001b[m\u001b[m                       \u001b[34m\u001b[43m/dev/ttyve\u001b[m\u001b[m\r\n",
      "\u001b[34m\u001b[43m/dev/ttys0\u001b[m\u001b[m                       \u001b[34m\u001b[43m/dev/ttyvf\u001b[m\u001b[m\r\n",
      "\u001b[34m\u001b[43m/dev/ttys000\u001b[m\u001b[m                     \u001b[34m\u001b[43m/dev/ttyw0\u001b[m\u001b[m\r\n",
      "\u001b[34m\u001b[43m/dev/ttys001\u001b[m\u001b[m                     \u001b[34m\u001b[43m/dev/ttyw1\u001b[m\u001b[m\r\n",
      "\u001b[34m\u001b[43m/dev/ttys002\u001b[m\u001b[m                     \u001b[34m\u001b[43m/dev/ttyw2\u001b[m\u001b[m\r\n",
      "\u001b[34m\u001b[43m/dev/ttys003\u001b[m\u001b[m                     \u001b[34m\u001b[43m/dev/ttyw3\u001b[m\u001b[m\r\n",
      "\u001b[34m\u001b[43m/dev/ttys004\u001b[m\u001b[m                     \u001b[34m\u001b[43m/dev/ttyw4\u001b[m\u001b[m\r\n",
      "\u001b[34m\u001b[43m/dev/ttys005\u001b[m\u001b[m                     \u001b[34m\u001b[43m/dev/ttyw5\u001b[m\u001b[m\r\n",
      "\u001b[34m\u001b[43m/dev/ttys1\u001b[m\u001b[m                       \u001b[34m\u001b[43m/dev/ttyw6\u001b[m\u001b[m\r\n",
      "\u001b[34m\u001b[43m/dev/ttys2\u001b[m\u001b[m                       \u001b[34m\u001b[43m/dev/ttyw7\u001b[m\u001b[m\r\n",
      "\u001b[34m\u001b[43m/dev/ttys3\u001b[m\u001b[m                       \u001b[34m\u001b[43m/dev/ttyw8\u001b[m\u001b[m\r\n",
      "\u001b[34m\u001b[43m/dev/ttys4\u001b[m\u001b[m                       \u001b[34m\u001b[43m/dev/ttyw9\u001b[m\u001b[m\r\n",
      "\u001b[34m\u001b[43m/dev/ttys5\u001b[m\u001b[m                       \u001b[34m\u001b[43m/dev/ttywa\u001b[m\u001b[m\r\n",
      "\u001b[34m\u001b[43m/dev/ttys6\u001b[m\u001b[m                       \u001b[34m\u001b[43m/dev/ttywb\u001b[m\u001b[m\r\n",
      "\u001b[34m\u001b[43m/dev/ttys7\u001b[m\u001b[m                       \u001b[34m\u001b[43m/dev/ttywc\u001b[m\u001b[m\r\n",
      "\u001b[34m\u001b[43m/dev/ttys8\u001b[m\u001b[m                       \u001b[34m\u001b[43m/dev/ttywd\u001b[m\u001b[m\r\n",
      "\u001b[34m\u001b[43m/dev/ttys9\u001b[m\u001b[m                       \u001b[34m\u001b[43m/dev/ttywe\u001b[m\u001b[m\r\n",
      "\u001b[34m\u001b[43m/dev/ttysa\u001b[m\u001b[m                       \u001b[34m\u001b[43m/dev/ttywf\u001b[m\u001b[m\r\n",
      "\u001b[34m\u001b[43m/dev/ttysb\u001b[m\u001b[m\r\n"
     ]
    }
   ],
   "source": [
    "!ls /dev/tty*"
   ]
  },
  {
   "cell_type": "code",
   "execution_count": 7,
   "metadata": {},
   "outputs": [
    {
     "name": "stdout",
     "output_type": "stream",
     "text": [
      "/dev/tty.usbmodem14101\n"
     ]
    }
   ],
   "source": [
    "ser = serial.Serial('/dev/tty.usbmodem14101')  # open serial port\n",
    "print(ser.name)         # check which port was really used\n"
   ]
  },
  {
   "cell_type": "code",
   "execution_count": 10,
   "metadata": {},
   "outputs": [
    {
     "data": {
      "text/plain": [
       "b'\\r\\n1\\r\\n1\\r\\n1\\r\\n1\\r\\n1\\r\\n1\\r\\n1\\r\\n1\\r\\n1\\r\\n1\\r\\n1\\r\\n1\\r\\n1\\r\\n1\\r\\n1\\r\\n1\\r\\n1\\r\\n1\\r\\n1\\r\\n1\\r\\n1\\r\\n1\\r\\n1\\r\\n1\\r\\n1\\r\\n1\\r\\n1\\r\\n1\\r\\n1\\r\\n1\\r\\n1\\r\\n1\\r\\n1\\r\\n1\\r\\n1\\r\\n1\\r\\n1\\r\\n1\\r\\n1\\r\\n1\\r\\n1\\r\\n1\\r\\n1\\r\\n1\\r\\n1\\r\\n1\\r\\n1\\r\\n1\\r\\n1\\r\\n1\\r\\n1\\r\\n1\\r\\n1\\r\\n1\\r\\n1\\r\\n1\\r\\n1\\r\\n1\\r\\n1\\r\\n1\\r\\n1\\r\\n1\\r\\n1\\r\\n1\\r\\n1\\r\\n1\\r\\n1\\r\\n1\\r\\n1\\r\\n1\\r\\n1\\r\\n1\\r\\n1\\r\\n1\\r\\n1\\r\\n1\\r\\n1\\r\\n1\\r\\n1\\r\\n1\\r\\n1\\r\\n1\\r\\n1\\r\\n1\\r\\n1\\r\\n1\\r\\n1\\r\\n1\\r\\n1\\r\\n1\\r\\n1\\r\\n1\\r\\n1\\r\\n1\\r\\n1\\r\\n1\\r\\n1\\r\\n1\\r\\n1\\r\\n1\\r\\n1\\r\\n1\\r\\n1\\r\\n1\\r\\n1\\r\\n1\\r\\n1\\r\\n1\\r\\n1\\r\\n1\\r\\n1\\r\\n1\\r\\n1\\r\\n1\\r\\n1\\r\\n1\\r\\n1\\r\\n1\\r\\n1\\r\\n1\\r\\n1\\r\\n1\\r\\n1\\r\\n1\\r\\n1\\r\\n1\\r\\n1\\r\\n1\\r\\n1\\r\\n1\\r\\n1\\r\\n1\\r\\n1\\r\\n1\\r\\n1\\r\\n1\\r\\n1\\r\\n1\\r\\n1\\r\\n1\\r\\n1\\r\\n1\\r\\n1\\r\\n1\\r\\n1\\r\\n1\\r\\n1\\r\\n1\\r\\n1\\r\\n1\\r\\n1\\r\\n1\\r\\n1\\r\\n1\\r\\n1\\r\\n1\\r\\n1\\r\\n1\\r\\n1\\r\\n1\\r\\n1\\r\\n1\\r\\n1\\r\\n1\\r\\n1\\r\\n1\\r\\n1\\r\\n1\\r\\n1\\r\\n1\\r\\n1\\r\\n1\\r\\n1\\r\\n1\\r\\n1\\r\\n1\\r\\n1\\r\\n1\\r\\n1\\r\\n1\\r\\n1\\r\\n1\\r\\n1\\r\\n1\\r\\n1\\r\\n1\\r\\n1\\r\\n1\\r\\n1\\r\\n1\\r\\n1\\r\\n1\\r\\n1\\r\\n1\\r\\n1\\r\\n1\\r\\n1\\r\\n1\\r\\n1\\r\\n1\\r\\n1\\r\\n1\\r\\n1\\r\\n1\\r\\n1\\r\\n1\\r\\n1\\r\\n1\\r\\n1\\r\\n1\\r\\n1\\r\\n1\\r\\n1\\r\\n1\\r\\n1\\r\\n1\\r\\n1\\r\\n1\\r\\n1\\r\\n1\\r\\n1\\r\\n1\\r\\n1\\r\\n1\\r\\n1\\r\\n1\\r\\n1\\r\\n1\\r\\n1\\r\\n1\\r\\n1\\r\\n1\\r\\n1\\r\\n1\\r\\n1\\r\\n1\\r\\n1\\r\\n1\\r\\n1\\r\\n1\\r\\n1\\r\\n1\\r\\n1\\r\\n1\\r\\n1\\r\\n1\\r\\n1\\r\\n1\\r\\n1\\r\\n1\\r\\n1\\r\\n1\\r\\n1\\r\\n1\\r\\n1\\r\\n1\\r\\n1\\r\\n1\\r\\n1\\r\\n1\\r\\n1\\r\\n1\\r\\n1\\r\\n1\\r\\n1\\r\\n1\\r\\n1\\r\\n1\\r\\n1\\r\\n1\\r\\n1\\r\\n1\\r\\n1\\r\\n1\\r\\n1\\r\\n1\\r\\n1\\r\\n1\\r\\n1\\r\\n1\\r\\n1\\r\\n1\\r\\n1\\r\\n1\\r\\n1\\r\\n1\\r\\n1\\r\\n1\\r\\n1\\r\\n1\\r\\n1\\r\\n1\\r\\n1\\r\\n1\\r\\n1\\r\\n1\\r\\n1\\r\\n1\\r\\n1\\r\\n1\\r\\n1\\r\\n1\\r\\n1\\r\\n1\\r\\n1\\r\\n1\\r\\n1\\r\\n1\\r\\n1\\r\\n1\\r\\n1\\r\\n1\\r\\n1\\r\\n1\\r\\n1\\r\\n1\\r\\n1\\r\\n1\\r\\n1\\r\\n1\\r\\n1\\r\\n1\\r\\n1\\r\\n1\\r\\n1\\r\\n1\\r\\n1\\r\\n1\\r\\n1\\r\\n1\\r\\n1\\r\\n1\\r\\n1\\r\\n1\\r\\n1\\r\\n1\\r\\n1\\r\\n1\\r\\n1\\r\\n1'"
      ]
     },
     "execution_count": 10,
     "metadata": {},
     "output_type": "execute_result"
    }
   ],
   "source": [
    "ser.read_all()"
   ]
  },
  {
   "cell_type": "code",
   "execution_count": 6,
   "metadata": {},
   "outputs": [],
   "source": [
    "\n",
    "ser.close()    "
   ]
  },
  {
   "cell_type": "code",
   "execution_count": null,
   "metadata": {},
   "outputs": [],
   "source": []
  }
 ],
 "metadata": {
  "kernelspec": {
   "display_name": "Python 3",
   "language": "python",
   "name": "python3"
  },
  "language_info": {
   "codemirror_mode": {
    "name": "ipython",
    "version": 3
   },
   "file_extension": ".py",
   "mimetype": "text/x-python",
   "name": "python",
   "nbconvert_exporter": "python",
   "pygments_lexer": "ipython3",
   "version": "3.7.6"
  }
 },
 "nbformat": 4,
 "nbformat_minor": 4
}
